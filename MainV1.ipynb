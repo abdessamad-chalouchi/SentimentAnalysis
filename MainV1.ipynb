{
 "cells": [
  {
   "cell_type": "code",
   "execution_count": 50,
   "metadata": {},
   "outputs": [],
   "source": [
    "import pandas as pd\n",
    "import nltk\n",
    "from nltk.tokenize import word_tokenize\n",
    "import numpy as np\n",
    "from gensim.models import KeyedVectors\n",
    "from keras.preprocessing.sequence import pad_sequences\n",
    "from keras.models import Sequential\n",
    "from keras.layers import Embedding, Conv1D, MaxPooling1D, Flatten, Dense, Dropout\n",
    "from sklearn.model_selection import train_test_split\n",
    "from sklearn.preprocessing import OneHotEncoder\n",
    "import tensorflow as tf\n",
    "import matplotlib.pyplot as plt"
   ]
  },
  {
   "cell_type": "code",
   "execution_count": 51,
   "metadata": {},
   "outputs": [
    {
     "data": {
      "text/html": [
       "<div>\n",
       "<style scoped>\n",
       "    .dataframe tbody tr th:only-of-type {\n",
       "        vertical-align: middle;\n",
       "    }\n",
       "\n",
       "    .dataframe tbody tr th {\n",
       "        vertical-align: top;\n",
       "    }\n",
       "\n",
       "    .dataframe thead th {\n",
       "        text-align: right;\n",
       "    }\n",
       "</style>\n",
       "<table border=\"1\" class=\"dataframe\">\n",
       "  <thead>\n",
       "    <tr style=\"text-align: right;\">\n",
       "      <th></th>\n",
       "      <th>word</th>\n",
       "      <th>AspectCategory</th>\n",
       "    </tr>\n",
       "  </thead>\n",
       "  <tbody>\n",
       "    <tr>\n",
       "      <th>0</th>\n",
       "      <td>flexible</td>\n",
       "      <td>functionality</td>\n",
       "    </tr>\n",
       "    <tr>\n",
       "      <th>1</th>\n",
       "      <td>use</td>\n",
       "      <td>functionality</td>\n",
       "    </tr>\n",
       "    <tr>\n",
       "      <th>2</th>\n",
       "      <td>powerful</td>\n",
       "      <td>performance</td>\n",
       "    </tr>\n",
       "    <tr>\n",
       "      <th>3</th>\n",
       "      <td>works</td>\n",
       "      <td>quality</td>\n",
       "    </tr>\n",
       "    <tr>\n",
       "      <th>4</th>\n",
       "      <td>fast</td>\n",
       "      <td>performance</td>\n",
       "    </tr>\n",
       "  </tbody>\n",
       "</table>\n",
       "</div>"
      ],
      "text/plain": [
       "       word AspectCategory\n",
       "0  flexible  functionality\n",
       "1       use  functionality\n",
       "2  powerful    performance\n",
       "3     works        quality\n",
       "4      fast    performance"
      ]
     },
     "execution_count": 51,
     "metadata": {},
     "output_type": "execute_result"
    }
   ],
   "source": [
    "data = pd.read_csv('./PRODUCTS.data', sep=',')\n",
    "data.head()"
   ]
  },
  {
   "cell_type": "code",
   "execution_count": 52,
   "metadata": {},
   "outputs": [
    {
     "name": "stderr",
     "output_type": "stream",
     "text": [
      "[nltk_data] Downloading package punkt to\n",
      "[nltk_data]     C:\\Users\\abdes\\AppData\\Roaming\\nltk_data...\n",
      "[nltk_data]   Package punkt is already up-to-date!\n"
     ]
    },
    {
     "data": {
      "text/html": [
       "<div>\n",
       "<style scoped>\n",
       "    .dataframe tbody tr th:only-of-type {\n",
       "        vertical-align: middle;\n",
       "    }\n",
       "\n",
       "    .dataframe tbody tr th {\n",
       "        vertical-align: top;\n",
       "    }\n",
       "\n",
       "    .dataframe thead th {\n",
       "        text-align: right;\n",
       "    }\n",
       "</style>\n",
       "<table border=\"1\" class=\"dataframe\">\n",
       "  <thead>\n",
       "    <tr style=\"text-align: right;\">\n",
       "      <th></th>\n",
       "      <th>word</th>\n",
       "      <th>AspectCategory</th>\n",
       "      <th>tokens</th>\n",
       "    </tr>\n",
       "  </thead>\n",
       "  <tbody>\n",
       "    <tr>\n",
       "      <th>0</th>\n",
       "      <td>flexible</td>\n",
       "      <td>functionality</td>\n",
       "      <td>[flexible]</td>\n",
       "    </tr>\n",
       "    <tr>\n",
       "      <th>1</th>\n",
       "      <td>use</td>\n",
       "      <td>functionality</td>\n",
       "      <td>[use]</td>\n",
       "    </tr>\n",
       "    <tr>\n",
       "      <th>2</th>\n",
       "      <td>powerful</td>\n",
       "      <td>performance</td>\n",
       "      <td>[powerful]</td>\n",
       "    </tr>\n",
       "    <tr>\n",
       "      <th>3</th>\n",
       "      <td>works</td>\n",
       "      <td>quality</td>\n",
       "      <td>[works]</td>\n",
       "    </tr>\n",
       "    <tr>\n",
       "      <th>4</th>\n",
       "      <td>fast</td>\n",
       "      <td>performance</td>\n",
       "      <td>[fast]</td>\n",
       "    </tr>\n",
       "  </tbody>\n",
       "</table>\n",
       "</div>"
      ],
      "text/plain": [
       "       word AspectCategory      tokens\n",
       "0  flexible  functionality  [flexible]\n",
       "1       use  functionality       [use]\n",
       "2  powerful    performance  [powerful]\n",
       "3     works        quality     [works]\n",
       "4      fast    performance      [fast]"
      ]
     },
     "execution_count": 52,
     "metadata": {},
     "output_type": "execute_result"
    }
   ],
   "source": [
    "\n",
    "nltk.download('punkt')\n",
    "data['tokens'] = data['word'].apply(word_tokenize)\n",
    "data.head()"
   ]
  },
  {
   "cell_type": "code",
   "execution_count": 53,
   "metadata": {},
   "outputs": [
    {
     "data": {
      "text/html": [
       "<div>\n",
       "<style scoped>\n",
       "    .dataframe tbody tr th:only-of-type {\n",
       "        vertical-align: middle;\n",
       "    }\n",
       "\n",
       "    .dataframe tbody tr th {\n",
       "        vertical-align: top;\n",
       "    }\n",
       "\n",
       "    .dataframe thead th {\n",
       "        text-align: right;\n",
       "    }\n",
       "</style>\n",
       "<table border=\"1\" class=\"dataframe\">\n",
       "  <thead>\n",
       "    <tr style=\"text-align: right;\">\n",
       "      <th></th>\n",
       "      <th>word</th>\n",
       "      <th>AspectCategory</th>\n",
       "      <th>tokens</th>\n",
       "      <th>embeddings</th>\n",
       "    </tr>\n",
       "  </thead>\n",
       "  <tbody>\n",
       "    <tr>\n",
       "      <th>0</th>\n",
       "      <td>flexible</td>\n",
       "      <td>functionality</td>\n",
       "      <td>[flexible]</td>\n",
       "      <td>[[0.23288, -0.30383, 0.0058964, -0.75339, -0.0...</td>\n",
       "    </tr>\n",
       "    <tr>\n",
       "      <th>1</th>\n",
       "      <td>use</td>\n",
       "      <td>functionality</td>\n",
       "      <td>[use]</td>\n",
       "      <td>[[0.36404, -0.16619, 0.28584, -0.17042, -0.422...</td>\n",
       "    </tr>\n",
       "    <tr>\n",
       "      <th>2</th>\n",
       "      <td>powerful</td>\n",
       "      <td>performance</td>\n",
       "      <td>[powerful]</td>\n",
       "      <td>[[0.64857, -0.77899, 0.64121, 0.22266, 0.82489...</td>\n",
       "    </tr>\n",
       "    <tr>\n",
       "      <th>3</th>\n",
       "      <td>works</td>\n",
       "      <td>quality</td>\n",
       "      <td>[works]</td>\n",
       "      <td>[[0.56266, 0.59051, -0.72821, -0.65968, 0.0804...</td>\n",
       "    </tr>\n",
       "    <tr>\n",
       "      <th>4</th>\n",
       "      <td>fast</td>\n",
       "      <td>performance</td>\n",
       "      <td>[fast]</td>\n",
       "      <td>[[-0.20784, -0.80485, 0.10014, -0.28913, -0.02...</td>\n",
       "    </tr>\n",
       "  </tbody>\n",
       "</table>\n",
       "</div>"
      ],
      "text/plain": [
       "       word AspectCategory      tokens  \\\n",
       "0  flexible  functionality  [flexible]   \n",
       "1       use  functionality       [use]   \n",
       "2  powerful    performance  [powerful]   \n",
       "3     works        quality     [works]   \n",
       "4      fast    performance      [fast]   \n",
       "\n",
       "                                          embeddings  \n",
       "0  [[0.23288, -0.30383, 0.0058964, -0.75339, -0.0...  \n",
       "1  [[0.36404, -0.16619, 0.28584, -0.17042, -0.422...  \n",
       "2  [[0.64857, -0.77899, 0.64121, 0.22266, 0.82489...  \n",
       "3  [[0.56266, 0.59051, -0.72821, -0.65968, 0.0804...  \n",
       "4  [[-0.20784, -0.80485, 0.10014, -0.28913, -0.02...  "
      ]
     },
     "execution_count": 53,
     "metadata": {},
     "output_type": "execute_result"
    }
   ],
   "source": [
    "#  Loads pre-trained GloVe word embeddings from the file \n",
    "glove_model = KeyedVectors.load_word2vec_format('./glove.6B.50d.txt', binary=False)\n",
    "\n",
    "# embedding function\n",
    "def get_embedding(token):\n",
    "    try:\n",
    "        return glove_model[token]\n",
    "    except KeyError:\n",
    "        return [0.0] * 50\n",
    "    \n",
    "data['embeddings'] = data['tokens'].apply(lambda tokens: [get_embedding(token) for token in tokens])\n",
    "data.head()"
   ]
  },
  {
   "cell_type": "code",
   "execution_count": 54,
   "metadata": {},
   "outputs": [
    {
     "data": {
      "text/html": [
       "<div>\n",
       "<style scoped>\n",
       "    .dataframe tbody tr th:only-of-type {\n",
       "        vertical-align: middle;\n",
       "    }\n",
       "\n",
       "    .dataframe tbody tr th {\n",
       "        vertical-align: top;\n",
       "    }\n",
       "\n",
       "    .dataframe thead th {\n",
       "        text-align: right;\n",
       "    }\n",
       "</style>\n",
       "<table border=\"1\" class=\"dataframe\">\n",
       "  <thead>\n",
       "    <tr style=\"text-align: right;\">\n",
       "      <th></th>\n",
       "      <th>word</th>\n",
       "      <th>AspectCategory</th>\n",
       "      <th>tokens</th>\n",
       "      <th>embeddings</th>\n",
       "      <th>padded_embeddings</th>\n",
       "    </tr>\n",
       "  </thead>\n",
       "  <tbody>\n",
       "    <tr>\n",
       "      <th>0</th>\n",
       "      <td>flexible</td>\n",
       "      <td>functionality</td>\n",
       "      <td>[flexible]</td>\n",
       "      <td>[[0.23288, -0.30383, 0.0058964, -0.75339, -0.0...</td>\n",
       "      <td>[0.23288, -0.30383, 0.0058964, -0.75339, -0.00...</td>\n",
       "    </tr>\n",
       "    <tr>\n",
       "      <th>1</th>\n",
       "      <td>use</td>\n",
       "      <td>functionality</td>\n",
       "      <td>[use]</td>\n",
       "      <td>[[0.36404, -0.16619, 0.28584, -0.17042, -0.422...</td>\n",
       "      <td>[0.36404, -0.16619, 0.28584, -0.17042, -0.4225...</td>\n",
       "    </tr>\n",
       "    <tr>\n",
       "      <th>2</th>\n",
       "      <td>powerful</td>\n",
       "      <td>performance</td>\n",
       "      <td>[powerful]</td>\n",
       "      <td>[[0.64857, -0.77899, 0.64121, 0.22266, 0.82489...</td>\n",
       "      <td>[0.64857, -0.77899, 0.64121, 0.22266, 0.82489,...</td>\n",
       "    </tr>\n",
       "    <tr>\n",
       "      <th>3</th>\n",
       "      <td>works</td>\n",
       "      <td>quality</td>\n",
       "      <td>[works]</td>\n",
       "      <td>[[0.56266, 0.59051, -0.72821, -0.65968, 0.0804...</td>\n",
       "      <td>[0.56266, 0.59051, -0.72821, -0.65968, 0.0804,...</td>\n",
       "    </tr>\n",
       "    <tr>\n",
       "      <th>4</th>\n",
       "      <td>fast</td>\n",
       "      <td>performance</td>\n",
       "      <td>[fast]</td>\n",
       "      <td>[[-0.20784, -0.80485, 0.10014, -0.28913, -0.02...</td>\n",
       "      <td>[-0.20784, -0.80485, 0.10014, -0.28913, -0.026...</td>\n",
       "    </tr>\n",
       "  </tbody>\n",
       "</table>\n",
       "</div>"
      ],
      "text/plain": [
       "       word AspectCategory      tokens  \\\n",
       "0  flexible  functionality  [flexible]   \n",
       "1       use  functionality       [use]   \n",
       "2  powerful    performance  [powerful]   \n",
       "3     works        quality     [works]   \n",
       "4      fast    performance      [fast]   \n",
       "\n",
       "                                          embeddings  \\\n",
       "0  [[0.23288, -0.30383, 0.0058964, -0.75339, -0.0...   \n",
       "1  [[0.36404, -0.16619, 0.28584, -0.17042, -0.422...   \n",
       "2  [[0.64857, -0.77899, 0.64121, 0.22266, 0.82489...   \n",
       "3  [[0.56266, 0.59051, -0.72821, -0.65968, 0.0804...   \n",
       "4  [[-0.20784, -0.80485, 0.10014, -0.28913, -0.02...   \n",
       "\n",
       "                                   padded_embeddings  \n",
       "0  [0.23288, -0.30383, 0.0058964, -0.75339, -0.00...  \n",
       "1  [0.36404, -0.16619, 0.28584, -0.17042, -0.4225...  \n",
       "2  [0.64857, -0.77899, 0.64121, 0.22266, 0.82489,...  \n",
       "3  [0.56266, 0.59051, -0.72821, -0.65968, 0.0804,...  \n",
       "4  [-0.20784, -0.80485, 0.10014, -0.28913, -0.026...  "
      ]
     },
     "execution_count": 54,
     "metadata": {},
     "output_type": "execute_result"
    }
   ],
   "source": [
    "# Pad embeddings\n",
    "maxlen = 50\n",
    "data[\"padded_embeddings\"] = data[\"embeddings\"].apply(\n",
    "    lambda x: pad_sequences(x, maxlen=maxlen, dtype=\"float32\", padding=\"post\")[0]\n",
    ")\n",
    "\n",
    "data.head()"
   ]
  },
  {
   "cell_type": "code",
   "execution_count": 55,
   "metadata": {},
   "outputs": [],
   "source": [
    "# data = data.drop_duplicates(subset=['word', 'AspectCategory'])\n",
    "# data.shape"
   ]
  },
  {
   "cell_type": "code",
   "execution_count": 56,
   "metadata": {},
   "outputs": [
    {
     "name": "stderr",
     "output_type": "stream",
     "text": [
      "C:\\Users\\abdes\\AppData\\Local\\Packages\\PythonSoftwareFoundation.Python.3.11_qbz5n2kfra8p0\\LocalCache\\local-packages\\Python311\\site-packages\\sklearn\\preprocessing\\_encoders.py:975: FutureWarning: `sparse` was renamed to `sparse_output` in version 1.2 and will be removed in 1.4. `sparse_output` is ignored unless you leave `sparse` to its default value.\n",
      "  warnings.warn(\n"
     ]
    },
    {
     "data": {
      "text/plain": [
       "array([0., 1., 0., 0., 0., 0., 0.])"
      ]
     },
     "execution_count": 56,
     "metadata": {},
     "output_type": "execute_result"
    }
   ],
   "source": [
    "# Prepare X and Y\n",
    "X = np.array(data['padded_embeddings'].tolist())\n",
    "y = data['AspectCategory'].values\n",
    "aspect_labels = data['AspectCategory'].unique().tolist()\n",
    "# One-hot encode Y where each category is represented as a binary vector\n",
    "encoder = OneHotEncoder(sparse=False)\n",
    "y = encoder.fit_transform(y.reshape(-1, 1))\n",
    "y[0]"
   ]
  },
  {
   "cell_type": "code",
   "execution_count": 57,
   "metadata": {},
   "outputs": [],
   "source": [
    "# Split data\n",
    "X_train, X_temp, y_train, y_temp = train_test_split(X, y, test_size=0.2, random_state=42)\n",
    "X_val, X_test, y_val, y_test = train_test_split(X_temp, y_temp, test_size=0.5, random_state=42)\n"
   ]
  },
  {
   "cell_type": "code",
   "execution_count": 58,
   "metadata": {},
   "outputs": [
    {
     "name": "stdout",
     "output_type": "stream",
     "text": [
      "X_train: (False, False)\n",
      "X_val: (False, False)\n",
      "X_test: (False, False)\n",
      "Max index in X_train: 4\n"
     ]
    }
   ],
   "source": [
    "# Convert indices to integers and check for negative values\n",
    "def preprocess_indices(X):\n",
    "    X_int = np.rint(X).astype(int)\n",
    "    X_int[X_int < 0] = 0\n",
    "    return X_int\n",
    "\n",
    "\n",
    "X_train = preprocess_indices(X_train)\n",
    "X_val = preprocess_indices(X_val)\n",
    "X_test = preprocess_indices(X_test)\n",
    "\n",
    "unique_words = data[\"word\"].unique()\n",
    "vocabulary_size = len(unique_words)\n",
    "# print(unique_words)\n",
    "\n",
    "\n",
    "def check_indices(X, vocab_size):\n",
    "    return (X < 0).any(), (X >= vocab_size).any()\n",
    "\n",
    "\n",
    "# Re-run the check\n",
    "print(\"X_train:\", check_indices(X_train, vocabulary_size))\n",
    "print(\"X_val:\", check_indices(X_val, vocabulary_size))\n",
    "print(\"X_test:\", check_indices(X_test, vocabulary_size))\n",
    "print(\"Max index in X_train:\", X_train.max())"
   ]
  },
  {
   "cell_type": "code",
   "execution_count": 59,
   "metadata": {},
   "outputs": [],
   "source": [
    "\n",
    "# Hyperparameter\n",
    "# filters are used to extract features from the input data\n",
    "filters_values = [64, 128, 256]\n",
    "# kernel size determines the size of the filter\n",
    "kernel_sizes_values = [3, 5, 7]\n",
    "# number of the neurons in specific layer\n",
    "layer_sizes_values = [32, 64, 128]\n",
    "\n",
    "best_accuracy = 0\n",
    "best_hyperparameters = {}"
   ]
  },
  {
   "cell_type": "code",
   "execution_count": 60,
   "metadata": {},
   "outputs": [
    {
     "name": "stdout",
     "output_type": "stream",
     "text": [
      "Best Hyperparameters: {'filters': 64, 'kernel_size': 7, 'layer_size': 128}\n",
      "Best Validation Accuracy: 0.7818182110786438\n"
     ]
    }
   ],
   "source": [
    "\n",
    "for filters in filters_values:\n",
    "    for kernel_size in kernel_sizes_values:\n",
    "        for layer_size in layer_sizes_values:\n",
    "            # Build model with current hyperparameters\n",
    "            model = Sequential()\n",
    "            # Adds an Embedding layer to the model\n",
    "            model.add(Embedding(input_dim=vocabulary_size, output_dim=50, input_length=maxlen))\n",
    "            # Adds a 1D convolutional layer to the model\n",
    "            model.add(Conv1D(filters=filters, kernel_size=kernel_size, activation='relu'))\n",
    "            model.add(MaxPooling1D(pool_size=2))\n",
    "            model.add(Conv1D(filters=filters, kernel_size=kernel_size, activation='relu'))\n",
    "            model.add(MaxPooling1D(pool_size=2))\n",
    "            model.add(Flatten())\n",
    "            model.add(Dense(layer_size, activation='relu'))\n",
    "            # Dropout helps prevent overfitting by randomly dropping out a fraction of neurons during training\n",
    "            model.add(Dropout(0.5))\n",
    "            model.add(Dense(y.shape[1], activation='softmax'))\n",
    "\n",
    "            model.compile(loss='categorical_crossentropy', optimizer='adam', metrics=['accuracy'])\n",
    "\n",
    "            # Train model\n",
    "            history = model.fit(X_train, y_train, epochs=20, batch_size=64, validation_data=(X_val, y_val), verbose=0)\n",
    "\n",
    "            # Evaluate model on validation set\n",
    "            _, val_accuracy = model.evaluate(X_val, y_val, verbose=0)\n",
    "\n",
    "            # Update best hyperparameters if the current configuration is better\n",
    "            if val_accuracy > best_accuracy:\n",
    "                best_accuracy = val_accuracy\n",
    "                best_hyperparameters = {'filters': filters, 'kernel_size': kernel_size, 'layer_size': layer_size}\n",
    "\n",
    "print(\"Best Hyperparameters:\", best_hyperparameters)\n",
    "print(\"Best Validation Accuracy:\", best_accuracy)"
   ]
  },
  {
   "cell_type": "code",
   "execution_count": 61,
   "metadata": {},
   "outputs": [],
   "source": [
    "# Visualize training history for the best model\n",
    "def plot_history(history):\n",
    "    # Plot training & validation accuracy values\n",
    "    plt.plot(history.history['accuracy'])\n",
    "    plt.plot(history.history['val_accuracy'])\n",
    "    plt.title('Model accuracy')\n",
    "    plt.xlabel('Epoch')\n",
    "    plt.ylabel('Accuracy')\n",
    "    plt.legend(['Train', 'Validation'], loc='upper left')\n",
    "    plt.show()\n",
    "\n",
    "    # Plot training & validation loss values\n",
    "    plt.plot(history.history['loss'])\n",
    "    plt.plot(history.history['val_loss'])\n",
    "    plt.title('Model loss')\n",
    "    plt.xlabel('Epoch')\n",
    "    plt.ylabel('Loss')\n",
    "    plt.legend(['Train', 'Validation'], loc='upper left')\n",
    "    plt.show()"
   ]
  },
  {
   "cell_type": "code",
   "execution_count": 62,
   "metadata": {},
   "outputs": [
    {
     "data": {
      "image/png": "[encoded data removed]",
      "text/plain": [
       "<Figure size 640x480 with 1 Axes>"
      ]
     },
     "metadata": {},
     "output_type": "display_data"
    },
    {
     "data": {
      "image/png": "[encoded data removed]",
      "text/plain": [
       "<Figure size 640x480 with 1 Axes>"
      ]
     },
     "metadata": {},
     "output_type": "display_data"
    }
   ],
   "source": [
    "\n",
    "# Visualize training history for the best model\n",
    "plot_history(best_history)"
   ]
  },
  {
   "cell_type": "code",
   "execution_count": 63,
   "metadata": {},
   "outputs": [],
   "source": [
    "# Build the best model using the discovered hyperparameters\n",
    "best_model = Sequential()\n",
    "best_model.add(Embedding(input_dim=vocabulary_size, output_dim=50, input_length=maxlen))\n",
    "best_model.add(Conv1D(filters=best_hyperparameters['filters'], kernel_size=best_hyperparameters['kernel_size'], activation='relu'))\n",
    "best_model.add(MaxPooling1D(pool_size=2))\n",
    "best_model.add(Conv1D(filters=best_hyperparameters['filters'], kernel_size=best_hyperparameters['kernel_size'], activation='relu'))\n",
    "best_model.add(MaxPooling1D(pool_size=2))\n",
    "best_model.add(Flatten())\n",
    "best_model.add(Dense(best_hyperparameters['layer_size'], activation='relu'))\n",
    "best_model.add(Dropout(0.5))\n",
    "best_model.add(Dense(y.shape[1], activation='softmax'))\n",
    "best_model.compile(loss='categorical_crossentropy', optimizer='adam', metrics=['accuracy'])"
   ]
  },
  {
   "cell_type": "code",
   "execution_count": 64,
   "metadata": {},
   "outputs": [
    {
     "name": "stdout",
     "output_type": "stream",
     "text": [
      "Epoch 1/20\n",
      "7/7 [==============================] - 1s 35ms/step - loss: 1.9218 - accuracy: 0.1837 - val_loss: 1.8865 - val_accuracy: 0.2364\n",
      "Epoch 2/20\n",
      "7/7 [==============================] - 0s 10ms/step - loss: 1.8738 - accuracy: 0.2132 - val_loss: 1.8331 - val_accuracy: 0.2364\n",
      "Epoch 3/20\n",
      "7/7 [==============================] - 0s 9ms/step - loss: 1.8270 - accuracy: 0.2381 - val_loss: 1.7745 - val_accuracy: 0.2727\n",
      "Epoch 4/20\n",
      "7/7 [==============================] - 0s 10ms/step - loss: 1.7447 - accuracy: 0.3016 - val_loss: 1.6849 - val_accuracy: 0.2727\n",
      "Epoch 5/20\n",
      "7/7 [==============================] - 0s 10ms/step - loss: 1.5818 - accuracy: 0.4218 - val_loss: 1.5854 - val_accuracy: 0.3273\n",
      "Epoch 6/20\n",
      "7/7 [==============================] - 0s 10ms/step - loss: 1.4202 - accuracy: 0.4785 - val_loss: 1.4268 - val_accuracy: 0.4545\n",
      "Epoch 7/20\n",
      "7/7 [==============================] - 0s 10ms/step - loss: 1.2960 - accuracy: 0.5102 - val_loss: 1.3587 - val_accuracy: 0.4545\n",
      "Epoch 8/20\n",
      "7/7 [==============================] - 0s 10ms/step - loss: 1.2156 - accuracy: 0.5510 - val_loss: 1.3094 - val_accuracy: 0.5091\n",
      "Epoch 9/20\n",
      "7/7 [==============================] - 0s 9ms/step - loss: 1.0469 - accuracy: 0.6417 - val_loss: 1.2050 - val_accuracy: 0.5091\n",
      "Epoch 10/20\n",
      "7/7 [==============================] - 0s 10ms/step - loss: 0.9513 - accuracy: 0.6667 - val_loss: 1.1165 - val_accuracy: 0.6000\n",
      "Epoch 11/20\n",
      "7/7 [==============================] - 0s 10ms/step - loss: 0.8784 - accuracy: 0.7256 - val_loss: 1.0500 - val_accuracy: 0.6727\n",
      "Epoch 12/20\n",
      "7/7 [==============================] - 0s 10ms/step - loss: 0.7970 - accuracy: 0.7528 - val_loss: 1.0285 - val_accuracy: 0.6727\n",
      "Epoch 13/20\n",
      "7/7 [==============================] - 0s 10ms/step - loss: 0.7719 - accuracy: 0.7211 - val_loss: 0.9319 - val_accuracy: 0.7091\n",
      "Epoch 14/20\n",
      "7/7 [==============================] - 0s 9ms/step - loss: 0.7076 - accuracy: 0.7664 - val_loss: 1.0095 - val_accuracy: 0.6000\n",
      "Epoch 15/20\n",
      "7/7 [==============================] - 0s 10ms/step - loss: 0.6125 - accuracy: 0.8050 - val_loss: 0.9154 - val_accuracy: 0.7091\n",
      "Epoch 16/20\n",
      "7/7 [==============================] - 0s 10ms/step - loss: 0.5093 - accuracy: 0.8254 - val_loss: 0.9226 - val_accuracy: 0.6909\n",
      "Epoch 17/20\n",
      "7/7 [==============================] - 0s 10ms/step - loss: 0.4963 - accuracy: 0.8390 - val_loss: 0.8422 - val_accuracy: 0.7273\n",
      "Epoch 18/20\n",
      "7/7 [==============================] - 0s 10ms/step - loss: 0.5071 - accuracy: 0.8209 - val_loss: 0.8266 - val_accuracy: 0.7091\n",
      "Epoch 19/20\n",
      "7/7 [==============================] - 0s 10ms/step - loss: 0.4686 - accuracy: 0.8413 - val_loss: 0.9891 - val_accuracy: 0.6727\n",
      "Epoch 20/20\n",
      "7/7 [==============================] - 0s 9ms/step - loss: 0.4353 - accuracy: 0.8413 - val_loss: 0.7808 - val_accuracy: 0.6909\n"
     ]
    }
   ],
   "source": [
    "# Train the best model\n",
    "best_history = best_model.fit(X_train, y_train, epochs=20, batch_size=64, validation_data=(X_val, y_val))"
   ]
  },
  {
   "cell_type": "code",
   "execution_count": 65,
   "metadata": {},
   "outputs": [
    {
     "name": "stdout",
     "output_type": "stream",
     "text": [
      "2/2 [==============================] - 0s 6ms/step - loss: 0.6063 - accuracy: 0.8214\n",
      "Test Loss: 0.6063, Test Accuracy: 0.8214\n"
     ]
    }
   ],
   "source": [
    "# Evaluate the best model on the test set\n",
    "test_loss, test_accuracy = best_model.evaluate(X_test, y_test)\n",
    "print(f\"Test Loss: {test_loss:.4f}, Test Accuracy: {test_accuracy:.4f}\")"
   ]
  },
  {
   "cell_type": "code",
   "execution_count": 68,
   "metadata": {},
   "outputs": [
    {
     "name": "stdout",
     "output_type": "stream",
     "text": [
      "1/1 [==============================] - 0s 92ms/step\n",
      "Predicted Class Index: 4\n",
      "Predicted Aspect Label: quality\n",
      "Predicted Class Confidence: 0.90697294\n"
     ]
    }
   ],
   "source": [
    "\n",
    "import numpy as np\n",
    "\n",
    "# Your existing code for preparing input data\n",
    "word = [\"durable\"]\n",
    "dict = {'word': word}\n",
    "df = pd.DataFrame(dict)\n",
    "df['tokens'] = df['word'].apply(word_tokenize)\n",
    "df['embeddings'] = df['tokens'].apply(lambda tokens: [get_embedding(token) for token in tokens])\n",
    "df['padded_embeddings'] = df['embeddings'].apply(lambda x: pad_sequences(x, maxlen=maxlen, dtype='float32', padding='post')[0])\n",
    "input_data = np.array(df['padded_embeddings'].tolist())\n",
    "input_data = preprocess_indices(input_data)\n",
    "\n",
    "\n",
    "predictions = best_model.predict(input_data)\n",
    "\n",
    "# print(predictions)\n",
    "# to decode the one-hot encoded prediction back to its original format\n",
    "decoded_predictions = encoder.inverse_transform(predictions)\n",
    "\n",
    "# reshape it back to its original shape\n",
    "decoded_predictions = decoded_predictions.reshape(-1)\n",
    "\n",
    "# Interpret the predictions\n",
    "predicted_class_index = np.argmax(predictions)\n",
    "confidence = predictions[0, predicted_class_index]\n",
    "\n",
    "\n",
    "# Print the results\n",
    "print(\"Predicted Class Index:\", predicted_class_index)\n",
    "print(\"Predicted Aspect Label:\", decoded_predictions[0])\n",
    "print(\"Predicted Class Confidence:\", confidence)\n"
   ]
  }
 ],
 "metadata": {
  "kernelspec": {
   "display_name": "Python 3",
   "language": "python",
   "name": "python3"
  },
  "language_info": {
   "codemirror_mode": {
    "name": "ipython",
    "version": 3
   },
   "file_extension": ".py",
   "mimetype": "text/x-python",
   "name": "python",
   "nbconvert_exporter": "python",
   "pygments_lexer": "ipython3",
   "version": "3.11.7"
  }
 },
 "nbformat": 4,
 "nbformat_minor": 2
}
